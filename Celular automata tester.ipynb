{
 "cells": [
  {
   "cell_type": "code",
   "execution_count": null,
   "metadata": {},
   "outputs": [],
   "source": [
    "import numpy as np\n",
    "import matplotlib.pyplot as plt\n",
    "import time\n",
    "#%matplotlib inline"
   ]
  },
  {
   "cell_type": "code",
   "execution_count": null,
   "metadata": {},
   "outputs": [],
   "source": [
    "%matplotlib notebook\n",
    "\n",
    "import matplotlib\n",
    "\n",
    "#modify some matplotlib parameters to manage the images for illustrator\n",
    "matplotlib.rcParams['pdf.fonttype'] = 42\n",
    "matplotlib.rcParams['ps.fonttype'] = 42"
   ]
  },
  {
   "cell_type": "code",
   "execution_count": null,
   "metadata": {},
   "outputs": [],
   "source": [
    "# create a initial grid\n",
    "grid_size = 500    #evetually define as an input\n",
    "grid = np.zeros((grid_size,grid_size))"
   ]
  },
  {
   "cell_type": "code",
   "execution_count": null,
   "metadata": {},
   "outputs": [],
   "source": [
    "# define the initial pattern\n",
    "grid[int(grid_size/2), int(grid_size/2)]=2\n",
    "grid"
   ]
  },
  {
   "cell_type": "code",
   "execution_count": null,
   "metadata": {},
   "outputs": [],
   "source": [
    "def show_grid(grid_array):\n",
    "    plt.figure()\n",
    "    plt.imshow(grid, cmap=plt.cm.gray)\n",
    "    plt.show()\n",
    "    "
   ]
  },
  {
   "cell_type": "code",
   "execution_count": null,
   "metadata": {},
   "outputs": [],
   "source": [
    "show_grid(grid)"
   ]
  },
  {
   "cell_type": "code",
   "execution_count": null,
   "metadata": {},
   "outputs": [],
   "source": [
    "# Define rules\n",
    "\n",
    "def rule1(grid):\n",
    "    # 2 = growing cell\n",
    "    # 1 = stationary cell\n",
    "    # 0 = empty space\n",
    "    \n",
    "    #this rule makes each cell divide only one time per step\n",
    "    new_grid = grid   #to separate the evaluation from the actualization\n",
    "    #g_ones = grid[grid == 1] \n",
    "    g_index =  np.nonzero(grid == 2) # growth index = where cell value == 2\n",
    "    #g_mask = np.array([[0,1,2],[3,8,4],[5,6,7]]) #position 8 is the center and not selectable\n",
    "    \n",
    "    #shuffle the elements in order to eliminate the bias of the computation order\n",
    "    \n",
    "    arr = np.arange(g_index[0].shape[0])\n",
    "    np.random.shuffle(arr)\n",
    "    \n",
    "    #for i in range(len(g_index[0])):  #go through every position with a \"growing cell\" ---> value = 2\n",
    "    for i in arr:  #go through every position with a \"growing cell\" ---> value = 2\n",
    "        \n",
    "        mask_pos = np.array([[-1,-1],[0,-1],[1,-1],[-1,0],[1,0],[-1,1],[0,1],[1,1]])\n",
    "        remove_list = []  #initialize a list to store \"neighbours spaces\"( = mask_pos) ocuped by cells\n",
    "        \n",
    "        # go through every position surrounding position --> eigh posibilities\n",
    "        \n",
    "        for j in range(len(mask_pos)):\n",
    "\n",
    "            m = g_index[0][i] + mask_pos[j][0]\n",
    "            n = g_index[1][i] + mask_pos[j][1]\n",
    "\n",
    "            if grid[m,n] !=0 :  #make a list with the positions which are not empty places\n",
    "                \n",
    "                remove_list.append(j)\n",
    "\n",
    "        new_mask_pos = np.delete(mask_pos, remove_list, 0)        \n",
    "\n",
    "        # to exit when there is not a surrounding empty position\n",
    "        l = len(new_mask_pos)\n",
    "        if l > 1:\n",
    "            r_pos = np.random.randint(l)   # a random number between [0,len[\n",
    "            new_pos = new_mask_pos[r_pos]\n",
    "\n",
    "            #m = g_ones_index[0][i] + mask_pos[new_pos][0]\n",
    "            #n = g_ones_index[1][i] + mask_pos[new_pos][1]\n",
    "            m = g_index[0][i] + new_pos[0]\n",
    "            n = g_index[1][i] + new_pos[1]\n",
    "            grid[m,n] = 2\n",
    "\n",
    "        elif l == 1:\n",
    "            \n",
    "            new_pos = new_mask_pos[0]\n",
    "\n",
    "            m = g_index[0][i] + new_pos[0]\n",
    "            n = g_index[1][i] + new_pos[1]\n",
    "            \n",
    "            grid[m,n] = 2\n",
    "\n",
    "        else: #when len(new_mask_pos) == 0\n",
    "            m = g_index[0][i]\n",
    "            n = g_index[1][i]\n",
    "            grid[m,n] = 1     # then, that position will not be evaluated again\n",
    "            \n",
    "    return(grid)"
   ]
  },
  {
   "cell_type": "code",
   "execution_count": null,
   "metadata": {},
   "outputs": [],
   "source": [
    "np.nonzero(grid == 2)[0].shape[0]"
   ]
  },
  {
   "cell_type": "code",
   "execution_count": null,
   "metadata": {},
   "outputs": [],
   "source": [
    "np.arange(10)"
   ]
  },
  {
   "cell_type": "code",
   "execution_count": null,
   "metadata": {},
   "outputs": [],
   "source": [
    "# Define rules\n",
    "\n",
    "def rule2(grid):\n",
    "    # 2 = growing cell\n",
    "    # 1 = stationary cell\n",
    "    # 0 = empty space\n",
    "    \n",
    "    #this rule makes each cell divide only one time per step\n",
    "    #g_ones = grid[grid == 1] \n",
    "    g_index =  np.nonzero(grid == 2) # growth index = where cell value == 2\n",
    "    #g_mask = np.array([[0,1,2],[3,8,4],[5,6,7]]) #position 8 is the center and not selectable\n",
    "    \n",
    "    #choose a random cell in the dividing state\n",
    "    cell_pos = int(np.random.rand(1)[0]*g_index[0].shape[0])\n",
    "    \n",
    "    mask_pos = np.array([[-1,-1],[0,-1],[1,-1],[-1,0],[1,0],[-1,1],[0,1],[1,1]])\n",
    "    remove_list = []  #initialize a list to store \"neighbours spaces\"( = mask_pos) ocuped by cells\n",
    "\n",
    "    # go through every position surrounding position --> eigh posibilities\n",
    "\n",
    "    for j in range(len(mask_pos)):\n",
    "\n",
    "        m = g_index[0][cell_pos] + mask_pos[j][0]\n",
    "        n = g_index[1][cell_pos] + mask_pos[j][1]\n",
    "\n",
    "        if grid[m,n] !=0 :  #make a list with the positions which are not empty places\n",
    "\n",
    "            remove_list.append(j)\n",
    "\n",
    "    new_mask_pos = np.delete(mask_pos, remove_list, 0)        \n",
    "\n",
    "    # to exit when there is not a surrounding empty position\n",
    "    l = len(new_mask_pos)\n",
    "    if l > 1:\n",
    "        r_pos = np.random.randint(l)   # a random number between [0,len[\n",
    "        new_pos = new_mask_pos[r_pos]\n",
    "\n",
    "        #m = g_ones_index[0][i] + mask_pos[new_pos][0]\n",
    "        #n = g_ones_index[1][i] + mask_pos[new_pos][1]\n",
    "        m = g_index[0][cell_pos] + new_pos[0]\n",
    "        n = g_index[1][cell_pos] + new_pos[1]\n",
    "        grid[m,n] = 2\n",
    "\n",
    "    elif l == 1:\n",
    "\n",
    "        new_pos = new_mask_pos[0]\n",
    "\n",
    "        m = g_index[0][cell_pos] + new_pos[0]\n",
    "        n = g_index[1][cell_pos] + new_pos[1]\n",
    "\n",
    "        grid[m,n] = 2\n",
    "\n",
    "    else: #when len(new_mask_pos) == 0\n",
    "        m = g_index[0][cell_pos]\n",
    "        n = g_index[1][cell_pos]\n",
    "        grid[m,n] = 1     # then, that position will not be evaluated again\n",
    "            \n",
    "    return(grid)"
   ]
  },
  {
   "cell_type": "code",
   "execution_count": null,
   "metadata": {},
   "outputs": [],
   "source": [
    "arr = np.arange(10)\n",
    "print(len(np.where(arr==11)[0]))"
   ]
  },
  {
   "cell_type": "code",
   "execution_count": null,
   "metadata": {},
   "outputs": [],
   "source": [
    "# Define rules\n",
    "\n",
    "def rule3(grid):\n",
    "    # 2 = growing cell\n",
    "    # 1 = stationary cell\n",
    "    # 0 = empty space\n",
    "    \n",
    "    #this rule makes each cell divide only one time per step\n",
    "    #g_ones = grid[grid == 1] \n",
    "    g_index =  np.nonzero(grid == 2) # growth index = where cell value == 2\n",
    "    #g_mask = np.array([[0,1,2],[3,8,4],[5,6,7]]) #position 8 is the center and not selectable\n",
    "    \n",
    "    #choose a random cell in the dividing state\n",
    "    index_pos = int(np.random.rand(1)[0]*g_index[0].shape[0])\n",
    "    m = g_index[0][index_pos]\n",
    "    n = g_index[1][index_pos]\n",
    "    #define the neighborhood\n",
    "    nb = grid[m-1:m+1,n-1:n+1]  #nb = neighborhood\n",
    "    \n",
    "    #define the free spaces in nb\n",
    "    fs = np.where(nb == 0)\n",
    "    \n",
    "    if len(fs[0]) == 0:\n",
    "        grid[m,n] = 1     # then, that position will not be evaluated again\n",
    "    else:\n",
    "        new_pos = int(np.random.rand(1)[0]*fs[0].shape[0])\n",
    "        grid[fs[0][new_pos], fs[1][new_pos]] = 2\n",
    "    \n",
    "    cell_index = [m,n]\n",
    "    ncell_index = [fs[0][new_pos],fs[1][new_pos]]\n",
    "    \n",
    "    return(grid,cell_index, ncell_index)"
   ]
  },
  {
   "cell_type": "code",
   "execution_count": null,
   "metadata": {},
   "outputs": [],
   "source": [
    "arr1 = np.array([[1,1,1],[2,2,1]])\n",
    "arr2 = np.where(arr1 == 1)\n",
    "print(len(arr2[0]))\n",
    "print(arr2[1][0])"
   ]
  },
  {
   "cell_type": "code",
   "execution_count": null,
   "metadata": {},
   "outputs": [],
   "source": [
    "plt.figure()\n",
    "im_grid = np.zeros((100,100,4))\n",
    "im_grid[:,:,0] = np.ones((100,100))*255\n",
    "im_grid[:,:,1] = np.ones((100,100))*255\n",
    "im_grid[:,:,2] = np.ones((100,100))*250\n",
    "im_grid[:,:,3] = np.ones((100,100))*1\n",
    "plt.imshow(im_grid)"
   ]
  },
  {
   "cell_type": "code",
   "execution_count": null,
   "metadata": {},
   "outputs": [],
   "source": [
    "def initial_plasmids(initial_grid, pattern_num = 0, num_plas = 2, max_copy = 4):\n",
    "    \n",
    "    c_index =  np.nonzero(grid) # c_index, \n",
    "    #cell_number = c_index[0].shape[0]\n",
    "    \n",
    "    gs = initial_grid.shape\n",
    "    pattern = np.zeros((gs[0],gs[1],max_copy)) #initialize the pattern array\n",
    "    \n",
    "    # add different patterns\n",
    "    if pattern_num == 0:  #random plasmid pattern\n",
    "        for i in range(c_index[0].shape[0]): #assign a random plasmid pattern to each cell position\n",
    "            pattern[c_index[0][i],c_index[1][i],:] = (num_plas +1 )*np.random.rand(max_copy) \n",
    "                                                            #num_plas +1 to add \"no-plasmid\" state\n",
    "            \n",
    "    elif pattern_num == 1:\n",
    "        pattern = np.ones((grid.shape))\n",
    "        \n",
    "    return(pattern)\n",
    "    "
   ]
  },
  {
   "cell_type": "code",
   "execution_count": null,
   "metadata": {},
   "outputs": [],
   "source": [
    "#main\n",
    "# create a initial grid\n",
    "grid_size = 150    #evetually define as an input\n",
    "grid = np.zeros((grid_size,grid_size))\n",
    "\n",
    "# define the initial pattern\n",
    "#grid[int(grid_size/2), int(grid_size/2)]=2\n",
    "grid = initial_pattern(grid, 2)\n",
    "plas_grid = initial_plasmids(grid)\n",
    "print(plas_grid.shape)"
   ]
  },
  {
   "cell_type": "code",
   "execution_count": null,
   "metadata": {},
   "outputs": [],
   "source": [
    "def get_plasmids(plasmid_grid, pos_index):\n",
    "    plasmids = plasmid_grid[pos_index[0], pos_index[1],:]\n",
    "    \n",
    "    return(plasmids)"
   ]
  },
  {
   "cell_type": "code",
   "execution_count": null,
   "metadata": {},
   "outputs": [],
   "source": [
    "def plasmid_update(plasmids, pos_index):\n",
    "    #plasmids: vector with plasmids. e.g [0,1,1,0,2]\n",
    "    state = 2 # cell state = growing state\n",
    "    \n",
    "    plasmids_pos = np.nonzero(plasmids)\n",
    "    empty_pos = np.where(plasmids == 0)\n",
    "    \n",
    "    num_plas = plasmids_pos[0].shape[0]\n",
    "    \n",
    "    if num_plas == 0:\n",
    "        #it means no plasmid in the cell\n",
    "        state = 1\n",
    "        \n",
    "    elif num_plas == plamids.shape[0]:\n",
    "        #it means all plasmids positions are full\n",
    "        return(plasmids, state)\n",
    "    \n",
    "    else:\n",
    "        copied_pos = np.random.randint(num_plas)\n",
    "        plasmids[empty_pos[0][0]] = plasmids[plasmids_pos[0][copied_pos]]\n",
    "        #copy the plasmid in the first free space\n",
    "    \n",
    "    return(plasmids, state)   \n",
    "    "
   ]
  },
  {
   "cell_type": "code",
   "execution_count": null,
   "metadata": {},
   "outputs": [],
   "source": [
    "def divide_plasmids(plasmids):\n",
    "    #plasmids: cell plasmids\n",
    "    p_size = plasmids.size[0]\n",
    "    \n",
    "    mother_p = np.zeros(p_size)\n",
    "    child_p = np.zeros(p_size)\n",
    "    \n",
    "    plasmids.shuffle\n",
    "    if (p_size & 1) == 1: #odd case\n",
    "        \n",
    "        #sum a random value to choose which cell keep more plasmids\n",
    "        rand_val = np.random.rand(1)\n",
    "        half_p = int(p_size/2 + rand_val) \n",
    "        \n",
    "    else:  #even case\n",
    "        half_p = int(p_size/2)\n",
    "    \n",
    "    mother_p[:half_p] = plasmids[:half_p]\n",
    "    child_p[half_p:]= plasmids[half_p:] \n",
    "    \n",
    "    return(mother_p, child_p)\n",
    "    "
   ]
  },
  {
   "cell_type": "code",
   "execution_count": null,
   "metadata": {},
   "outputs": [],
   "source": [
    "def initial_pattern(grid, pattern_num):\n",
    "    \n",
    "    pattern = {}  #initiate initial pattern dictionary\n",
    "    \n",
    "    # add different patterns\n",
    "    pattern[0] = np.array([[2]])\n",
    "    pattern[1] = np.array([[0, 0, 2, 0, 0],[0,2,2,2,0],[2,2,1,2,2],[0,2,2,2,0],[0,0,2,0,0]])\n",
    "    pattern[2] = np.ones((2,35))*2\n",
    "    \n",
    "    #make elements which are not in the border to be = 1\n",
    "    fixed_pat = pattern[pattern_num]\n",
    "    \n",
    "    \n",
    "    #put the pattern in the grid\n",
    "    gs = grid.shape\n",
    "    \n",
    "    m0 = int(gs[0]/2)\n",
    "    n0 = int(gs[1]/2)\n",
    "    \n",
    "    ps = fixed_pat.shape\n",
    "    mpm = int(ps[0]/2)\n",
    "    npm = int(ps[1]/2)\n",
    "            \n",
    "    for i in range(ps[0]):\n",
    "        for j in range(ps[1]):\n",
    "            m = m0 + (i - mpm)\n",
    "            n = n0 + (j - npm)\n",
    "            \n",
    "            grid[m,n] = fixed_pat[i,j]\n",
    "\n",
    "\n",
    "    return(grid)\n",
    "    "
   ]
  },
  {
   "cell_type": "code",
   "execution_count": null,
   "metadata": {},
   "outputs": [],
   "source": [
    "#perform the loop\n",
    "steps = 50\n",
    "sleep_time = 0.1\n",
    "\n",
    "fig = plt.figure()\n",
    "fig.show()\n",
    "show_grid(grid)  #show the initial grid\n",
    "plt.title('step 0')\n",
    "\n",
    "for i  in range(steps):\n",
    "    time.sleep(sleep_time)    \n",
    "    grid = rule1(grid)\n",
    "    plt.imshow(grid, cmap=plt.cm.gray)\n",
    "    plt.title('step '+ str(i+1))\n",
    "    fig.canvas.draw()\n",
    "  "
   ]
  },
  {
   "cell_type": "code",
   "execution_count": null,
   "metadata": {},
   "outputs": [],
   "source": [
    "plt.figure()\n",
    "plt.imshow(grid)"
   ]
  },
  {
   "cell_type": "code",
   "execution_count": null,
   "metadata": {},
   "outputs": [],
   "source": [
    "#perform the loop\n",
    "steps = 10\n",
    "sleep_time = 0.5\n",
    "\n",
    "show_grid(grid)  #show the initial grid\n",
    "plt.figure(0)\n",
    "for i  in range(steps):\n",
    "    time.sleep(sleep_time)    \n",
    "    grid = rule1(grid)\n",
    "    show_grid(grid)\n",
    "    "
   ]
  },
  {
   "cell_type": "code",
   "execution_count": null,
   "metadata": {},
   "outputs": [],
   "source": [
    "#to show\n",
    "time1 = time.clock()\n",
    "\n",
    "# create a initial grid\n",
    "grid_size = 150    #evetually define as an input\n",
    "grid = np.zeros((grid_size,grid_size))\n",
    "\n",
    "# define the initial pattern\n",
    "#grid[int(grid_size/2), int(grid_size/2)]=2\n",
    "grid = initial_pattern(grid, 2)\n",
    "\n",
    "#perform the loop\n",
    "steps = 10000\n",
    "#sleep_time = 0.01\n",
    "\n",
    "#to save the last figure\n",
    "filename = 'null'\n",
    "\n",
    "fig = plt.figure()\n",
    "fig.show()\n",
    "show_grid(grid)  #show the initial grid\n",
    "plt.title('step 0')\n",
    "\n",
    "for i  in range(steps):\n",
    "    #time.sleep(sleep_time)    \n",
    "    #grid = rule1(grid)\n",
    "    grid = rule3(grid)\n",
    "    #plt.imshow(grid, cmap=plt.cm.gray)\n",
    "    plt.title('step '+ str(i+1))\n",
    "    #fig.canvas.draw()\n",
    "    \n",
    "    if i == steps-1:\n",
    "        plt.savefig(str(filename) + \".pdf\", transparent=True)\n",
    "plt.imshow(grid, cmap=plt.cm.gray)\n",
    "\n",
    "elapsed = time.clock() - time1\n",
    "\n",
    "print(elapsed)  # it takes 0.21186613101770035 seg for me"
   ]
  },
  {
   "cell_type": "code",
   "execution_count": null,
   "metadata": {},
   "outputs": [],
   "source": [
    "#to show\n",
    "time1 = time.clock()\n",
    "# create a initial grid\n",
    "grid_size = 150    #evetually define as an input\n",
    "grid = np.zeros((grid_size,grid_size))\n",
    "\n",
    "# define the initial pattern\n",
    "grid = initial_pattern(grid, 0)\n",
    "\n",
    "#perform the loop\n",
    "steps = 15000\n",
    "#sleep_time = 0.01\n",
    "\n",
    "#to save the last figure\n",
    "filename = 'null'\n",
    "\n",
    "fig = plt.figure()\n",
    "plt.title('step 0')\n",
    "\n",
    "for i  in range(steps):\n",
    "    #time.sleep(sleep_time)    \n",
    "    #grid = rule1(grid)\n",
    "    grid = rule2(grid)\n",
    "    #plt.imshow(grid, cmap=plt.cm.gray)\n",
    "    plt.title('step '+ str(i+1))\n",
    "    \n",
    "    \n",
    "    if i == steps-1:\n",
    "        \n",
    "        plt.imshow(grid, cmap=plt.cm.gray)\n",
    "        #fig.canvas.draw()\n",
    "        plt.savefig(str(filename) + \".pdf\", transparent=True)\n",
    "        \n",
    "\n",
    "elapsed = time.clock() - time1\n",
    "print(elapsed)"
   ]
  },
  {
   "cell_type": "code",
   "execution_count": null,
   "metadata": {},
   "outputs": [],
   "source": [
    "mask[1,2]"
   ]
  },
  {
   "cell_type": "code",
   "execution_count": null,
   "metadata": {},
   "outputs": [],
   "source": [
    "vals = np.array([[-1,-1],[0,-1],[1,-1],[-1,0],[1,0],[-1,1],[0,1],[1,1],[0,0]])\n",
    "vals[4][1]"
   ]
  },
  {
   "cell_type": "code",
   "execution_count": null,
   "metadata": {},
   "outputs": [],
   "source": [
    "pos = np.nonzero(grid == 0)\n",
    "print(pos[0][10])"
   ]
  },
  {
   "cell_type": "code",
   "execution_count": null,
   "metadata": {},
   "outputs": [],
   "source": [
    "len(pos[1])"
   ]
  },
  {
   "cell_type": "code",
   "execution_count": null,
   "metadata": {},
   "outputs": [],
   "source": [
    "grid[grid == 1]"
   ]
  },
  {
   "cell_type": "code",
   "execution_count": null,
   "metadata": {},
   "outputs": [],
   "source": [
    "#make automata loop\n",
    "\n",
    "time_steps = 100\n",
    "\n",
    "for t in time_steps:\n",
    "    "
   ]
  },
  {
   "cell_type": "code",
   "execution_count": null,
   "metadata": {},
   "outputs": [],
   "source": [
    "np.random.randint(8) # a random number between [0,8[ --> eigh posibilities"
   ]
  },
  {
   "cell_type": "code",
   "execution_count": null,
   "metadata": {},
   "outputs": [],
   "source": [
    "grid[0,0]"
   ]
  },
  {
   "cell_type": "code",
   "execution_count": null,
   "metadata": {},
   "outputs": [],
   "source": [
    "time1 = time.clock()\n",
    "arr = np.random.rand(5000,5000)\n",
    "elapsed = time.clock() - time1\n",
    "\n",
    "print(elapsed)  # it takes 0.21186613101770035 seg for me\n",
    "\n",
    "\n"
   ]
  },
  {
   "cell_type": "code",
   "execution_count": null,
   "metadata": {},
   "outputs": [],
   "source": [
    "np.amin(np.nonzero(grid == 2)[0])"
   ]
  },
  {
   "cell_type": "code",
   "execution_count": null,
   "metadata": {},
   "outputs": [],
   "source": [
    "#hacer clases\n",
    "# to not make:\n",
    "# cell = [px,py,vx,vy]\n",
    "# cell[0]+= cell[2]*deltaT\n",
    "\n",
    "\n",
    "# make classes is the same in general terms (in computation time, etc), but is a more recomended paradigma\n",
    "# because is more clear and organized.\n",
    "\n",
    "class cell:\n",
    "    def __init__(self,px,py): #primer parametro siempre es self -->que hace referencia al objeto cell\n",
    "        self.px = px\n",
    "        self.py = py\n",
    "        self.vx = 0\n",
    "        self.vy = 0\n",
    "        \n",
    "    # la gracia es que puedo definir funciones dentro de la clase    \n",
    "    def mover(self,vx,vy,t):  #siempre el primero es self!\n",
    "        self.px += vx*t\n",
    "        self.py += vy*t\n",
    "        \n",
    "celula = cell(-1,1)\n",
    "\n",
    "print(celula.px) #--> arroja -1\n",
    "ceula.px +=1\n",
    "print(celula.px) #--> arroja 0\n",
    "\n",
    "celula.mover(-1,1,1)\n",
    "\n",
    "lista = []\n",
    "for n in range(10):\n",
    "    lista.append(cell(n/10,n/10))\n",
    "    \n",
    "# or to make some computations faster when it is a big number of elements (>1000)\n",
    "\n",
    "class sim:\n",
    "    def __init__(self, ncells):\n",
    "        positions = np.array((ncells,2))\n",
    "\n",
    "#Also you can create an inheritance class\n",
    "class bacterium(cell):   #that means bacterium \"is a\" cell\n",
    "    def infect():   #then you can add new functions to the class bacterium\n",
    "        \n",
    "# todos los objetos en python pueden guardarse con el packete pickle"
   ]
  },
  {
   "cell_type": "code",
   "execution_count": null,
   "metadata": {},
   "outputs": [],
   "source": []
  }
 ],
 "metadata": {
  "kernelspec": {
   "display_name": "Python 3",
   "language": "python",
   "name": "python3"
  },
  "language_info": {
   "codemirror_mode": {
    "name": "ipython",
    "version": 3
   },
   "file_extension": ".py",
   "mimetype": "text/x-python",
   "name": "python",
   "nbconvert_exporter": "python",
   "pygments_lexer": "ipython3",
   "version": "3.6.4"
  }
 },
 "nbformat": 4,
 "nbformat_minor": 2
}
