{
 "cells": [
  {
   "cell_type": "code",
   "execution_count": null,
   "metadata": {},
   "outputs": [],
   "source": [
    "import numpy as np\n",
    "import matplotlib.pyplot as plt\n",
    "import time\n",
    "#%matplotlib inline"
   ]
  },
  {
   "cell_type": "code",
   "execution_count": null,
   "metadata": {},
   "outputs": [],
   "source": [
    "%matplotlib notebook\n",
    "\n",
    "import matplotlib\n",
    "\n",
    "#modify some matplotlib parameters to manage the images for illustrator\n",
    "matplotlib.rcParams['pdf.fonttype'] = 42\n",
    "matplotlib.rcParams['ps.fonttype'] = 42"
   ]
  },
  {
   "cell_type": "code",
   "execution_count": null,
   "metadata": {},
   "outputs": [],
   "source": [
    "# create a initial grid\n",
    "grid_size = 500    #evetually define as an input\n",
    "grid = np.zeros((grid_size,grid_size))"
   ]
  },
  {
   "cell_type": "code",
   "execution_count": null,
   "metadata": {},
   "outputs": [],
   "source": [
    "# define the initial pattern\n",
    "grid[int(grid_size/2), int(grid_size/2)]=2\n",
    "grid"
   ]
  },
  {
   "cell_type": "code",
   "execution_count": null,
   "metadata": {},
   "outputs": [],
   "source": [
    "def show_grid(im_grid):\n",
    "    plt.imshow(im_grid, cmap=plt.cm.gray)\n",
    "    plt.colorbar()\n",
    "    plt.show()"
   ]
  },
  {
   "cell_type": "code",
   "execution_count": null,
   "metadata": {},
   "outputs": [],
   "source": [
    "show_grid(grid)"
   ]
  },
  {
   "cell_type": "code",
   "execution_count": null,
   "metadata": {},
   "outputs": [],
   "source": [
    "# Define rules\n",
    "\n",
    "def rule1(grid):\n",
    "    # 2 = growing cell\n",
    "    # 1 = stationary cell\n",
    "    # 0 = empty space\n",
    "    \n",
    "    #this rule makes each cell divide only one time per step\n",
    "    new_grid = grid   #to separate the evaluation from the actualization\n",
    "    #g_ones = grid[grid == 1] \n",
    "    g_index =  np.nonzero(grid == 2) # growth index = where cell value == 2\n",
    "    #g_mask = np.array([[0,1,2],[3,8,4],[5,6,7]]) #position 8 is the center and not selectable\n",
    "    \n",
    "    #shuffle the elements in order to eliminate the bias of the computation order\n",
    "    \n",
    "    arr = np.arange(g_index[0].shape[0])\n",
    "    np.random.shuffle(arr)\n",
    "    \n",
    "    #for i in range(len(g_index[0])):  #go through every position with a \"growing cell\" ---> value = 2\n",
    "    for i in arr:  #go through every position with a \"growing cell\" ---> value = 2\n",
    "        \n",
    "        mask_pos = np.array([[-1,-1],[0,-1],[1,-1],[-1,0],[1,0],[-1,1],[0,1],[1,1]])\n",
    "        remove_list = []  #initialize a list to store \"neighbours spaces\"( = mask_pos) ocuped by cells\n",
    "        \n",
    "        # go through every position surrounding position --> eigh posibilities\n",
    "        \n",
    "        for j in range(len(mask_pos)):\n",
    "\n",
    "            m = g_index[0][i] + mask_pos[j][0]\n",
    "            n = g_index[1][i] + mask_pos[j][1]\n",
    "\n",
    "            if grid[m,n] !=0 :  #make a list with the positions which are not empty places\n",
    "                \n",
    "                remove_list.append(j)\n",
    "\n",
    "        new_mask_pos = np.delete(mask_pos, remove_list, 0)        \n",
    "\n",
    "        # to exit when there is not a surrounding empty position\n",
    "        l = len(new_mask_pos)\n",
    "        if l > 1:\n",
    "            r_pos = np.random.randint(l)   # a random number between [0,len[\n",
    "            new_pos = new_mask_pos[r_pos]\n",
    "\n",
    "            #m = g_ones_index[0][i] + mask_pos[new_pos][0]\n",
    "            #n = g_ones_index[1][i] + mask_pos[new_pos][1]\n",
    "            m = g_index[0][i] + new_pos[0]\n",
    "            n = g_index[1][i] + new_pos[1]\n",
    "            grid[m,n] = 2\n",
    "\n",
    "        elif l == 1:\n",
    "            \n",
    "            new_pos = new_mask_pos[0]\n",
    "\n",
    "            m = g_index[0][i] + new_pos[0]\n",
    "            n = g_index[1][i] + new_pos[1]\n",
    "            \n",
    "            grid[m,n] = 2\n",
    "\n",
    "        else: #when len(new_mask_pos) == 0\n",
    "            m = g_index[0][i]\n",
    "            n = g_index[1][i]\n",
    "            grid[m,n] = 1     # then, that position will not be evaluated again\n",
    "            \n",
    "    return(grid)"
   ]
  },
  {
   "cell_type": "code",
   "execution_count": null,
   "metadata": {},
   "outputs": [],
   "source": [
    "def initial_pattern(grid, pattern_num):\n",
    "    \n",
    "    pattern = {}  #initiate initial pattern dictionary\n",
    "    \n",
    "    # add different patterns\n",
    "    pattern[0] = np.array([[2]])\n",
    "    pattern[1] = np.array([[0, 0, 2, 0, 0],[0,2,2,2,0],[2,2,2,2,2],[0,2,2,2,0],[0,0,2,0,0]])\n",
    "    pattern[2] = np.ones((2,35))*2\n",
    "    \n",
    "    #make elements which are not in the border to be = 1\n",
    "    fixed_pat = pattern[pattern_num]\n",
    "    \n",
    "    \n",
    "    #put the pattern in the grid\n",
    "    gs = grid.shape\n",
    "    \n",
    "    m0 = int(gs[0]/2)\n",
    "    n0 = int(gs[1]/2)\n",
    "    \n",
    "    ps = fixed_pat.shape\n",
    "    mpm = int(ps[0]/2)\n",
    "    npm = int(ps[1]/2)\n",
    "            \n",
    "    for i in range(ps[0]):\n",
    "        for j in range(ps[1]):\n",
    "            m = m0 + (i - mpm)\n",
    "            n = n0 + (j - npm)\n",
    "            \n",
    "            grid[m,n] = fixed_pat[i,j]\n",
    "\n",
    "\n",
    "    return(grid)\n",
    "    "
   ]
  },
  {
   "cell_type": "code",
   "execution_count": null,
   "metadata": {},
   "outputs": [],
   "source": [
    "#perform the loop\n",
    "steps = 50\n",
    "sleep_time = 0.1\n",
    "\n",
    "fig = plt.figure()\n",
    "fig.show()\n",
    "show_grid(grid)  #show the initial grid\n",
    "plt.title('step 0')\n",
    "\n",
    "for i  in range(steps):\n",
    "    time.sleep(sleep_time)    \n",
    "    grid = rule1(grid)\n",
    "    plt.imshow(grid, cmap=plt.cm.gray)\n",
    "    plt.title('step '+ str(i+1))\n",
    "    fig.canvas.draw()\n",
    "  "
   ]
  },
  {
   "cell_type": "code",
   "execution_count": null,
   "metadata": {},
   "outputs": [],
   "source": [
    "#perform the loop\n",
    "steps = 10\n",
    "sleep_time = 0.5\n",
    "\n",
    "show_grid(grid)  #show the initial grid\n",
    "plt.figure(0)\n",
    "for i  in range(steps):\n",
    "    time.sleep(sleep_time)    \n",
    "    grid = rule1(grid)\n",
    "    show_grid(grid)\n",
    "    "
   ]
  },
  {
   "cell_type": "code",
   "execution_count": null,
   "metadata": {},
   "outputs": [],
   "source": []
  },
  {
   "cell_type": "code",
   "execution_count": null,
   "metadata": {},
   "outputs": [],
   "source": [
    "#to show\n",
    "\n",
    "# create a initial grid\n",
    "grid_size = 150    #evetually define as an input\n",
    "grid = np.zeros((grid_size,grid_size))\n",
    "\n",
    "# define the initial pattern\n",
    "#grid[int(grid_size/2), int(grid_size/2)]=2\n",
    "grid = initial_pattern(grid, 2)\n",
    "\n",
    "#perform the loop\n",
    "steps = 50\n",
    "sleep_time = 0.01\n",
    "\n",
    "#to save the last figure\n",
    "filename = 'null'\n",
    "\n",
    "fig = plt.figure()\n",
    "fig.show()\n",
    "show_grid(grid)  #show the initial grid\n",
    "plt.title('step 0')\n",
    "\n",
    "for i  in range(steps):\n",
    "    time.sleep(sleep_time)    \n",
    "    grid = rule1(grid)\n",
    "    plt.imshow(grid, cmap=plt.cm.gray)\n",
    "    plt.title('step '+ str(i+1))\n",
    "    fig.canvas.draw()\n",
    "    \n",
    "    if i == steps-1:\n",
    "        plt.savefig(str(filename) + \".pdf\", transparent=True)\n",
    "\n",
    "\n"
   ]
  },
  {
   "cell_type": "code",
   "execution_count": null,
   "metadata": {},
   "outputs": [],
   "source": [
    "mask[1,2]"
   ]
  },
  {
   "cell_type": "code",
   "execution_count": null,
   "metadata": {},
   "outputs": [],
   "source": [
    "vals = np.array([[-1,-1],[0,-1],[1,-1],[-1,0],[1,0],[-1,1],[0,1],[1,1],[0,0]])\n",
    "vals[4][1]"
   ]
  },
  {
   "cell_type": "code",
   "execution_count": null,
   "metadata": {},
   "outputs": [],
   "source": [
    "pos = np.nonzero(grid == 0)\n",
    "print(pos[0][10])"
   ]
  },
  {
   "cell_type": "code",
   "execution_count": null,
   "metadata": {},
   "outputs": [],
   "source": [
    "len(pos[1])"
   ]
  },
  {
   "cell_type": "code",
   "execution_count": null,
   "metadata": {},
   "outputs": [],
   "source": [
    "grid[grid == 1]"
   ]
  },
  {
   "cell_type": "code",
   "execution_count": null,
   "metadata": {},
   "outputs": [],
   "source": [
    "#make automata loop\n",
    "\n",
    "time_steps = 100\n",
    "\n",
    "for t in time_steps:\n",
    "    "
   ]
  },
  {
   "cell_type": "code",
   "execution_count": null,
   "metadata": {},
   "outputs": [],
   "source": [
    "np.random.randint(8) # a random number between [0,8[ --> eigh posibilities"
   ]
  },
  {
   "cell_type": "code",
   "execution_count": null,
   "metadata": {},
   "outputs": [],
   "source": [
    "grid[0,0]"
   ]
  },
  {
   "cell_type": "code",
   "execution_count": null,
   "metadata": {},
   "outputs": [],
   "source": []
  },
  {
   "cell_type": "code",
   "execution_count": null,
   "metadata": {},
   "outputs": [],
   "source": []
  },
  {
   "cell_type": "code",
   "execution_count": null,
   "metadata": {},
   "outputs": [],
   "source": []
  },
  {
   "cell_type": "code",
   "execution_count": null,
   "metadata": {},
   "outputs": [],
   "source": []
  },
  {
   "cell_type": "code",
   "execution_count": null,
   "metadata": {},
   "outputs": [],
   "source": []
  }
 ],
 "metadata": {
  "kernelspec": {
   "display_name": "Python 3",
   "language": "python",
   "name": "python3"
  },
  "language_info": {
   "codemirror_mode": {
    "name": "ipython",
    "version": 3
   },
   "file_extension": ".py",
   "mimetype": "text/x-python",
   "name": "python",
   "nbconvert_exporter": "python",
   "pygments_lexer": "ipython3",
   "version": "3.6.4"
  }
 },
 "nbformat": 4,
 "nbformat_minor": 2
}
